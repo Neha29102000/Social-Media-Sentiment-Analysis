import pandas as pd

import matplotlib.pyplot as plt
import seaborn as sns

import warnings
warnings.filterwarnings('ignore')

from google.colab import drive
drive.mount('/content/drive')

df = pd.read_csv("/content/drive/MyDrive/csv/COVID19_Tweets1.csv").fillna(0)



print(df.shape)

df.head()

df.columns

df.head()

print(df.shape)

df.dtypes

pip install neattext

import neattext.functions as nfx

dir(nfx)

df['text'].iloc[2]

df.head()

df['text'].apply(nfx.extract_hashtags)

df['extracted_hashtags'] = df['text'].apply(nfx.extract_hashtags)

df[['extracted_hashtags','hashtags']]

df['clean_tweet'] = df['text'].apply(nfx.remove_hashtags)

df[['text','clean_tweet']]

df['clean_tweet'] = df['clean_tweet'].apply(lambda x: nfx.remove_userhandles(x))

df[['text','clean_tweet']]

df['clean_tweet'].iloc[10]

df['clean_tweet'] = df['clean_tweet'].apply(nfx.remove_multiple_spaces)

df['clean_tweet'].iloc[10]

df['clean_tweet'] = df['clean_tweet'].apply(nfx.remove_urls)

df['clean_tweet'] = df['clean_tweet'].apply(nfx.remove_puncts)

df['clean_tweet'] = df['clean_tweet'].apply(nfx.remove_stopwords)

df[['text','clean_tweet']]

Sentiment Analysis

from textblob import TextBlob

def get_sentiment(clean_tweet):
    blob = TextBlob(clean_tweet)
    sentiment_polarity = blob.sentiment.polarity
    sentiment_subjectivity = blob.sentiment.subjectivity
    if sentiment_polarity > 0:
        sentiment_label = 1
    elif sentiment_polarity < 0:
        sentiment_label = -1
    else:
        sentiment_label = 0
    result = {'polarity':sentiment_polarity,
              'subjectivity':sentiment_subjectivity,
              'sentiment':sentiment_label}
    return result

ex1 = df['clean_tweet'].iloc[0]

get_sentiment(ex1)

df['sentiment_results'] = df['clean_tweet'].apply(get_sentiment)

df['sentiment_results']

df['sentiment_results'].iloc[0]

pd.json_normalize(df['sentiment_results'].iloc[0])

df = df.join(pd.json_normalize(df['sentiment_results']))

df.head()

df['sentiment'].value_counts()

df['sentiment'].value_counts().plot(kind='bar')

sns.countplot(df['sentiment'])

positive_tweet = df[df['sentiment'] == 'Positive']['clean_tweet']

neutral_tweet = df[df['sentiment'] == 'Neutral']['clean_tweet']
negative_tweet = df[df['sentiment'] == 'Negative']['clean_tweet']

odf.head()

Machine Learning Algorithum

from sklearn.feature_extraction.text import TfidfVectorizer
tfidf=TfidfVectorizer()
y=df.values
x=tfidf.fit_transform(df['clean_tweet'])

from sklearn.model_selection import train_test_split

x_train,x_text,y_train,y_text=train_test_split(x,y,random_state=1,test_size=0.2,shuffle=False)

from sklearn.feature_extraction.text import TfidfTransformer
tfidf=TfidfTransformer()
train_vectors = tfidf.fit_transform(x_train)
test_vectors = tfidf.transform(x_text)

print(x_train.shape)
print(x_text.shape)
print(y_train.shape)
print(y_text.shape)

y_train = df.loc[:7998, 'sentiment'].values
from sklearn.naive_bayes import MultinomialNB
clf = MultinomialNB().fit(train_vectors, y_train)

import numpy as np
y_text = df.loc[7999:, 'sentiment'].values
from sklearn.metrics import accuracy_score
acc_nb = accuracy_score(y_pred,y_text)*100
print("accuracy:"+str(acc_nb)+" %" )



from sklearn.linear_model import LogisticRegression
clf= LogisticRegression()
clf.fit(train_vectors,y_train)
y_pred=clf.predict(test_vectors)
from sklearn.metrics import accuracy_score
acc_logistic = accuracy_score(y_pred,y_text)*100
print("accuracy:"+str(acc_logistic)+" %" )



from sklearn.neighbors import KNeighborsClassifier

knn = KNeighborsClassifier(n_neighbors=7)
knn.fit(train_vectors,y_train)
y_pred_knn=knn.predict(test_vectors)

from sklearn.metrics import accuracy_score
acc_knn = accuracy_score(y_pred_knn,y_text)*100
print("accuracy:"+str(acc_knn)+" %" )

from sklearn.svm import LinearSVC

linear_svc =LinearSVC(random_state=0)
linear_svc.fit(x_train,y_train)
y_pred=linear_svc.predict(x_text)
acc_linear_svc = accuracy_score(y_pred,y_text)*100
print("accuracy: "+str(acc_linear_svc)+" %" )

import xgboost as xgb

xgb_model = xgb.XGBClassifier(objective="binary:logistic", random_state=42)
xgb_model.fit(train_vectors,y_train)
y_pred_xgb = xgb_model.predict(test_vectors)
acc_xgb = accuracy_score(y_pred_xgb,y_text)*100
print("accuracy: "+str(acc_xgb)+" %" )

from sklearn.tree import DecisionTreeClassifier 
clf = DecisionTreeClassifier()
clf = clf.fit(train_vectors,y_train)
y_pred = clf.predict(test_vectors)

from sklearn.metrics import accuracy_score
acc_dec = accuracy_score(y_pred,y_text)*100
print("accuracy:"+str(acc_dec)+" %" )

scores = [acc_nb,acc_logistic,acc_knn,acc_linear_svc,acc_xgb,acc_dec]
algorithms = ["MultinomialNB","Logistic Regression","KNN","Support Vector Machine","XGBoost","Decision Tree "]    

for i in range(len(algorithms)):
    print("The accuracy score achieved using "+algorithms[i]+" is: "+str(scores[i])+" %")

sns.set(rc={'figure.figsize':(15,8)})
plt.xlabel("Algorithms")
plt.ylabel("Accuracy score")

sns.barplot(algorithms,scores)
